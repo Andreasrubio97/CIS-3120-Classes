{
 "cells": [
  {
   "cell_type": "code",
   "execution_count": null,
   "id": "6b88b4bc-a5c4-436d-9eed-8e95600f6d53",
   "metadata": {
    "editable": true,
    "slideshow": {
     "slide_type": ""
    },
    "tags": []
   },
   "outputs": [],
   "source": [
    "from Animal import Animal"
   ]
  },
  {
   "cell_type": "code",
   "execution_count": null,
   "id": "738a52e3-faf1-4f92-8835-fed5b5e36dfe",
   "metadata": {
    "editable": true,
    "slideshow": {
     "slide_type": ""
    },
    "tags": []
   },
   "outputs": [],
   "source": [
    "x = Animal(\"Lions\",\"meat\",\"night\",\"fast\",\"zebras\",\"lions\")\n",
    "x.talk()"
   ]
  },
  {
   "cell_type": "code",
   "execution_count": null,
   "id": "1384d079",
   "metadata": {},
   "outputs": [],
   "source": [
    "x.eat_food()"
   ]
  },
  {
   "cell_type": "code",
   "execution_count": null,
   "id": "b8217fc0",
   "metadata": {},
   "outputs": [],
   "source": [
    "x.animal_sleep()"
   ]
  },
  {
   "cell_type": "code",
   "execution_count": null,
   "id": "b0b30b2b",
   "metadata": {},
   "outputs": [],
   "source": [
    "x.animal_run()"
   ]
  },
  {
   "cell_type": "code",
   "execution_count": null,
   "id": "b069db1a",
   "metadata": {},
   "outputs": [],
   "source": [
    "x.animal_hunt()"
   ]
  },
  {
   "cell_type": "code",
   "execution_count": null,
   "id": "4f30671a",
   "metadata": {},
   "outputs": [],
   "source": [
    "x.animal_fight()"
   ]
  }
 ],
 "metadata": {
  "kernelspec": {
   "display_name": "base",
   "language": "python",
   "name": "python3"
  },
  "language_info": {
   "codemirror_mode": {
    "name": "ipython",
    "version": 3
   },
   "file_extension": ".py",
   "mimetype": "text/x-python",
   "name": "python",
   "nbconvert_exporter": "python",
   "pygments_lexer": "ipython3",
   "version": "3.12.7"
  }
 },
 "nbformat": 4,
 "nbformat_minor": 5
}
